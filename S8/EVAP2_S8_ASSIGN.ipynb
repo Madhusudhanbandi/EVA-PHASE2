{
  "nbformat": 4,
  "nbformat_minor": 0,
  "metadata": {
    "kernelspec": {
      "name": "python3",
      "display_name": "Python 3"
    },
    "language_info": {
      "codemirror_mode": {
        "name": "ipython",
        "version": 3
      },
      "file_extension": ".py",
      "mimetype": "text/x-python",
      "name": "python",
      "nbconvert_exporter": "python",
      "pygments_lexer": "ipython3",
      "version": "3.6.6"
    },
    "colab": {
      "name": "EVAP2_S8_ASSIGN.ipynb",
      "provenance": [],
      "collapsed_sections": []
    },
    "accelerator": "GPU"
  },
  "cells": [
    {
      "cell_type": "code",
      "metadata": {
        "id": "qnNlF2wX8-np",
        "outputId": "e040baa5-12ca-432f-8792-1dc84358921b",
        "colab": {
          "base_uri": "https://localhost:8080/",
          "height": 34
        }
      },
      "source": [
        "from google.colab import drive\n",
        "drive.mount('/content/drive')\n",
        "import sys\n",
        "sys.path.append('/content/drive/My Drive')"
      ],
      "execution_count": null,
      "outputs": [
        {
          "output_type": "stream",
          "text": [
            "Drive already mounted at /content/drive; to attempt to forcibly remount, call drive.mount(\"/content/drive\", force_remount=True).\n"
          ],
          "name": "stdout"
        }
      ]
    },
    {
      "cell_type": "code",
      "metadata": {
        "id": "W3qf_U6s_1vc",
        "outputId": "8e809ccb-394e-409e-fcdd-18f744924427",
        "colab": {
          "base_uri": "https://localhost:8080/",
          "height": 34
        }
      },
      "source": [
        "%cd '/content/drive/My Drive/Colab Notebooks'"
      ],
      "execution_count": null,
      "outputs": [
        {
          "output_type": "stream",
          "text": [
            "/content/drive/My Drive/Colab Notebooks\n"
          ],
          "name": "stdout"
        }
      ]
    },
    {
      "cell_type": "code",
      "metadata": {
        "id": "kZNltqaoeDLt",
        "outputId": "d895cadb-27ab-483b-fa07-255aefa21d33",
        "colab": {
          "base_uri": "https://localhost:8080/",
          "height": 323
        }
      },
      "source": [
        "!pip install torch==1.5.0  torchvision==0.6.0 -f https://download.pytorch.org/whl/torch_stable.html\n",
        "\n"
      ],
      "execution_count": null,
      "outputs": [
        {
          "output_type": "stream",
          "text": [
            "Looking in links: https://download.pytorch.org/whl/torch_stable.html\n",
            "Collecting torch==1.5.0\n",
            "\u001b[?25l  Downloading https://download.pytorch.org/whl/cu92/torch-1.5.0%2Bcu92-cp36-cp36m-linux_x86_64.whl (603.7MB)\n",
            "\u001b[K     |████████████████████████████████| 603.7MB 29kB/s \n",
            "\u001b[?25hCollecting torchvision==0.6.0\n",
            "\u001b[?25l  Downloading https://download.pytorch.org/whl/cu92/torchvision-0.6.0%2Bcu92-cp36-cp36m-linux_x86_64.whl (6.5MB)\n",
            "\u001b[K     |████████████████████████████████| 6.5MB 30.5MB/s \n",
            "\u001b[?25hRequirement already satisfied: numpy in /usr/local/lib/python3.6/dist-packages (from torch==1.5.0) (1.18.5)\n",
            "Requirement already satisfied: future in /usr/local/lib/python3.6/dist-packages (from torch==1.5.0) (0.16.0)\n",
            "Requirement already satisfied: pillow>=4.1.1 in /usr/local/lib/python3.6/dist-packages (from torchvision==0.6.0) (7.0.0)\n",
            "Installing collected packages: torch, torchvision\n",
            "  Found existing installation: torch 1.6.0+cu101\n",
            "    Uninstalling torch-1.6.0+cu101:\n",
            "      Successfully uninstalled torch-1.6.0+cu101\n",
            "  Found existing installation: torchvision 0.7.0+cu101\n",
            "    Uninstalling torchvision-0.7.0+cu101:\n",
            "      Successfully uninstalled torchvision-0.7.0+cu101\n",
            "Successfully installed torch-1.5.0+cu92 torchvision-0.6.0+cu92\n"
          ],
          "name": "stdout"
        }
      ]
    },
    {
      "cell_type": "code",
      "metadata": {
        "id": "-yVpodAMpoCi"
      },
      "source": [
        "from __future__ import print_function\n",
        "import torch\n",
        "import torch.nn as nn\n",
        "import torch.nn.functional as F\n",
        "import torch.optim as optim\n",
        "from torchvision import datasets,transforms\n",
        "import torchvision\n",
        "from torchsummary import summary\n",
        "from myfunctions import *\n",
        "from models import *\n",
        "from Grad_Cam import get_last_conv,Grad_Cam\n",
        "from transforms_dataloading import downloading_data_transforms_albumentations\n",
        "from tqdm import tqdm\n",
        "\n",
        "from albumentations import  ( \n",
        "    HorizontalFlip, IAAPerspective, ShiftScaleRotate, CLAHE, RandomRotate90,\n",
        "    Transpose, ShiftScaleRotate, Blur, OpticalDistortion, GridDistortion, HueSaturationValue,\n",
        "    IAAAdditiveGaussianNoise, GaussNoise, MotionBlur, MedianBlur, IAAPiecewiseAffine,\n",
        "    IAASharpen, IAAEmboss, RandomBrightnessContrast, Flip, OneOf, Compose , Normalize ,ToFloat, Cutout\n",
        ")\n",
        "\n",
        "import cv2\n",
        "\n",
        "import numpy as np\n",
        "\n",
        "# from albumentations.pytorch import  ToTensor "
      ],
      "execution_count": null,
      "outputs": []
    },
    {
      "cell_type": "code",
      "metadata": {
        "id": "zlVhwc58fKam",
        "outputId": "078826ef-a6fc-4997-985d-f4705c3cf50b",
        "colab": {
          "base_uri": "https://localhost:8080/",
          "height": 51
        }
      },
      "source": [
        "print(torch. __version__)\n",
        "print(torchvision. __version__)"
      ],
      "execution_count": null,
      "outputs": [
        {
          "output_type": "stream",
          "text": [
            "1.5.0+cu92\n",
            "0.6.0+cu92\n"
          ],
          "name": "stdout"
        }
      ]
    },
    {
      "cell_type": "code",
      "metadata": {
        "id": "gvx_t5kJz5id"
      },
      "source": [
        "dataset_dir=\"/content/drive/My Drive/Colab Notebooks/EVA_P2/S6/CARS\""
      ],
      "execution_count": null,
      "outputs": []
    },
    {
      "cell_type": "markdown",
      "metadata": {
        "id": "fUeRUA14FQZH"
      },
      "source": [
        "**Downloading datasets and applying transforms**"
      ]
    },
    {
      "cell_type": "code",
      "metadata": {
        "id": "9IKLNyqPmFTa",
        "outputId": "94bcb1d1-f6a4-4d23-c2ac-c0cf53f6b437",
        "colab": {
          "base_uri": "https://localhost:8080/",
          "height": 34
        }
      },
      "source": [
        "cuda = torch.cuda.is_available()\n",
        "print(\"CUDA Available?\", cuda)"
      ],
      "execution_count": null,
      "outputs": [
        {
          "output_type": "stream",
          "text": [
            "CUDA Available? True\n"
          ],
          "name": "stdout"
        }
      ]
    },
    {
      "cell_type": "markdown",
      "metadata": {
        "id": "-G0S-xaK-jgB"
      },
      "source": [
        "**Loading data to train and test loader**"
      ]
    },
    {
      "cell_type": "code",
      "metadata": {
        "id": "5wEYHl4q0kpv"
      },
      "source": [
        "CROP_SIZE = 64\n",
        "UPSCALE_FACTOR=4\n",
        "NUM_EPOCHS=50"
      ],
      "execution_count": null,
      "outputs": []
    },
    {
      "cell_type": "code",
      "metadata": {
        "id": "ypMtkv5V1113",
        "outputId": "6f5cbd56-efd4-49a9-aa70-9e73e938b8f4",
        "colab": {
          "base_uri": "https://localhost:8080/",
          "height": 34
        }
      },
      "source": [
        "%cd \"/content/drive/My Drive/Colab Notebooks/EVA_P2/S8\""
      ],
      "execution_count": null,
      "outputs": [
        {
          "output_type": "stream",
          "text": [
            "/content/drive/My Drive/Colab Notebooks/EVA_P2/S8\n"
          ],
          "name": "stdout"
        }
      ]
    },
    {
      "cell_type": "code",
      "metadata": {
        "id": "jFx_QUYOHTWR"
      },
      "source": [
        "from model import *\n",
        "from loss import *\n",
        "from utils import *\n",
        "from ssim import *"
      ],
      "execution_count": null,
      "outputs": []
    },
    {
      "cell_type": "code",
      "metadata": {
        "id": "_5c5x4JM2SXy"
      },
      "source": [
        "\n",
        "train_set = TrainDatasetFromFolder(dataset_dir, crop_size=CROP_SIZE, upscale_factor=UPSCALE_FACTOR)\n",
        "val_set = ValDatasetFromFolder(dataset_dir, upscale_factor=UPSCALE_FACTOR)"
      ],
      "execution_count": null,
      "outputs": []
    },
    {
      "cell_type": "code",
      "metadata": {
        "id": "tOT52nuQ7HUq"
      },
      "source": [
        "\n",
        "train_loader = torch.utils.data.DataLoader(dataset=train_set, num_workers=4, batch_size=8, shuffle=True)\n",
        "val_loader = torch.utils.data.DataLoader(dataset=val_set, num_workers=4, batch_size=1, shuffle=False)\n"
      ],
      "execution_count": null,
      "outputs": []
    },
    {
      "cell_type": "code",
      "metadata": {
        "id": "y3apaPcovuuh",
        "outputId": "f5067867-951d-4c83-dc60-769688e62a49",
        "colab": {
          "base_uri": "https://localhost:8080/",
          "height": 1000
        }
      },
      "source": [
        "import argparse\n",
        "import os\n",
        "from math import log10\n",
        "\n",
        "import pandas as pd\n",
        "import torch.optim as optim\n",
        "import torch.utils.data\n",
        "import torchvision.utils as utils\n",
        "from torch.autograd import Variable\n",
        "from torch.utils.data import DataLoader\n",
        "from tqdm import tqdm\n",
        "\n",
        "\n",
        "# from data_utils import TrainDatasetFromFolder, ValDatasetFromFolder, display_transform\n",
        "# from loss import GeneratorLoss\n",
        "# from model import Generator, Discriminator\n",
        "\n",
        "netG = Generator(UPSCALE_FACTOR)\n",
        "print('# generator parameters:', sum(param.numel() for param in netG.parameters()))\n",
        "netD = Discriminator()\n",
        "print('# discriminator parameters:', sum(param.numel() for param in netD.parameters()))\n",
        "\n",
        "generator_criterion = GeneratorLoss()\n",
        "\n",
        "if torch.cuda.is_available():\n",
        "    netG.cuda()\n",
        "    netD.cuda()\n",
        "    generator_criterion.cuda()\n",
        "\n",
        "optimizerG = optim.Adam(netG.parameters())\n",
        "optimizerD = optim.Adam(netD.parameters())\n",
        "\n",
        "results = {'d_loss': [], 'g_loss': [], 'd_score': [], 'g_score': [], 'psnr': [], 'ssim': []}\n",
        "\n",
        "for epoch in range(1, NUM_EPOCHS + 1):\n",
        "    print(\"Epoch.....\",epoch)\n",
        "    train_bar = tqdm(train_loader)\n",
        "    running_results = {'batch_sizes': 0, 'd_loss': 0, 'g_loss': 0, 'd_score': 0, 'g_score': 0}\n",
        "\n",
        "    netG.train()\n",
        "    netD.train()\n",
        "    for data, target in train_bar:\n",
        "        g_update_first = True\n",
        "        batch_size = data.size(0)\n",
        "        running_results['batch_sizes'] += batch_size\n",
        "\n",
        "        ############################\n",
        "        # (1) Update D network: maximize D(x)-1-D(G(z))\n",
        "        ###########################\n",
        "        real_img = Variable(target)\n",
        "        if torch.cuda.is_available():\n",
        "            real_img = real_img.cuda()\n",
        "        z = Variable(data)\n",
        "        if torch.cuda.is_available():\n",
        "            z = z.cuda()\n",
        "        fake_img = netG(z)\n",
        "\n",
        "        netD.zero_grad()\n",
        "        real_out = netD(real_img).mean()\n",
        "        fake_out = netD(fake_img).mean()\n",
        "        d_loss = 1 - real_out + fake_out\n",
        "        d_loss.backward(retain_graph=True)\n",
        "        optimizerD.step()\n",
        "\n",
        "        ############################\n",
        "        # (2) Update G network: minimize 1-D(G(z)) + Perception Loss + Image Loss + TV Loss\n",
        "        ###########################\n",
        "        netG.zero_grad()\n",
        "        fake_img = netG(z)\n",
        "        fake_out = netD(fake_img).mean()\n",
        "        g_loss = generator_criterion(fake_out, fake_img, real_img)\n",
        "        g_loss.backward()\n",
        "        \n",
        "        \n",
        "        \n",
        "        \n",
        "        optimizerG.step()\n",
        "\n",
        "        # loss for current batch before optimization \n",
        "        running_results['g_loss'] += g_loss.item() * batch_size\n",
        "        running_results['d_loss'] += d_loss.item() * batch_size\n",
        "        running_results['d_score'] += real_out.item() * batch_size\n",
        "        running_results['g_score'] += fake_out.item() * batch_size\n",
        "\n",
        "        # train_bar.set_description(desc='[%d/%d] Loss_D: %.4f Loss_G: %.4f D(x): %.4f D(G(z)): %.4f' % (\n",
        "        #     epoch, NUM_EPOCHS, running_results['d_loss'] / running_results['batch_sizes'],\n",
        "        #     running_results['g_loss'] / running_results['batch_sizes'],\n",
        "        #     running_results['d_score'] / running_results['batch_sizes'],\n",
        "        #     running_results['g_score'] / running_results['batch_sizes']))\n",
        "\n",
        "    netG.eval()\n",
        "    out_path = 'training_results/SRF_' + str(UPSCALE_FACTOR) + '/'\n",
        "    if not os.path.exists(out_path):\n",
        "        os.makedirs(out_path)\n",
        "    \n",
        "    with torch.no_grad():\n",
        "        val_bar = tqdm(val_loader)\n",
        "        valing_results = {'mse': 0, 'ssims': 0, 'psnr': 0, 'ssim': 0, 'batch_sizes': 0}\n",
        "        val_images = []\n",
        "        for val_lr, val_hr_restore, val_hr in val_bar:\n",
        "            batch_size = val_lr.size(0)\n",
        "            valing_results['batch_sizes'] += batch_size\n",
        "            lr = val_lr\n",
        "            hr = val_hr\n",
        "            if torch.cuda.is_available():\n",
        "                lr = lr.cuda()\n",
        "                hr = hr.cuda()\n",
        "            sr = netG(lr)\n",
        "    \n",
        "            batch_mse = ((sr - hr) ** 2).data.mean()\n",
        "            valing_results['mse'] += batch_mse * batch_size\n",
        "            batch_ssim = ssim(sr,hr).item()\n",
        "            valing_results['ssims'] += batch_ssim * batch_size\n",
        "            valing_results['psnr'] = 10 * log10((hr.max()**2) / (valing_results['mse'] / valing_results['batch_sizes']))\n",
        "            valing_results['ssim'] = valing_results['ssims'] / valing_results['batch_sizes']\n",
        "            if epoch % 50 == 0:\n",
        "              val_bar.set_description(\n",
        "                  desc='[converting LR images to SR images] PSNR: %.4f dB SSIM: %.4f' % (\n",
        "                      valing_results['psnr'], valing_results['ssim']))\n",
        "      \n",
        "            val_images.extend(\n",
        "                [display_transform()(val_hr_restore.squeeze(0)), display_transform()(hr.data.cpu().squeeze(0)),\n",
        "                  display_transform()(sr.data.cpu().squeeze(0))])\n",
        "        val_images = torch.stack(val_images)\n",
        "        val_images = torch.chunk(val_images, val_images.size(0) // 15)\n",
        "        if epoch % 50 == 0:\n",
        "          print(\"starts hear............\")\n",
        "          val_save_bar = tqdm(val_images, desc='[saving training results]')\n",
        "        \n",
        "          index = 1\n",
        "          for image in val_save_bar:\n",
        "              image = utils.make_grid(image, nrow=3, padding=5)\n",
        "              utils.save_image(image, out_path + 'epoch_%d_index_%d.png' % (epoch, index), padding=5)\n",
        "              index += 1\n",
        "\n",
        "    # save model parameters\n",
        "    if epoch % 50 == 0:\n",
        "      print(\"oyeeeeeeeeee\")\n",
        "      out_pat = 'training_results/epochs/'\n",
        "      if not os.path.exists(out_pat):\n",
        "          os.makedirs(out_pat)\n",
        "      \n",
        "      torch.save(netG.state_dict(), 'training_results/epochs/netG_epoch_%d_%d.pth' % (UPSCALE_FACTOR, epoch))\n",
        "      torch.save(netD.state_dict(), 'training_results/epochs/netD_epoch_%d_%d.pth' % (UPSCALE_FACTOR, epoch))\n",
        "    # save loss\\scores\\psnr\\ssim\n",
        "      results['d_loss'].append(running_results['d_loss'] / running_results['batch_sizes'])\n",
        "      results['g_loss'].append(running_results['g_loss'] / running_results['batch_sizes'])\n",
        "      results['d_score'].append(running_results['d_score'] / running_results['batch_sizes'])\n",
        "      results['g_score'].append(running_results['g_score'] / running_results['batch_sizes'])\n",
        "      results['psnr'].append(valing_results['psnr'])\n",
        "      results['ssim'].append(valing_results['ssim'])\n",
        "\n",
        "      if epoch % 50 == 0 and epoch != 0:\n",
        "        out_path = 'training_results/'\n",
        "        data_frame = pd.DataFrame(\n",
        "            data={'Loss_D': results['d_loss'], 'Loss_G': results['g_loss'], 'Score_D': results['d_score'],\n",
        "                  'Score_G': results['g_score'], 'PSNR': results['psnr'], 'SSIM': results['ssim']},\n",
        "            index=range(1, epoch + 1))\n",
        "        data_frame.to_csv(out_path + 'srf_' + str(UPSCALE_FACTOR) + '_train_results.csv', index_label='Epoch')"
      ],
      "execution_count": null,
      "outputs": [
        {
          "output_type": "stream",
          "text": [
            "# generator parameters: 734219\n",
            "# discriminator parameters: 5215425\n"
          ],
          "name": "stdout"
        },
        {
          "output_type": "stream",
          "text": [
            "\r  0%|          | 0/43 [00:00<?, ?it/s]"
          ],
          "name": "stderr"
        },
        {
          "output_type": "stream",
          "text": [
            "Epoch..... 1\n"
          ],
          "name": "stdout"
        },
        {
          "output_type": "stream",
          "text": [
            "100%|██████████| 43/43 [00:28<00:00,  1.52it/s]\n",
            "100%|██████████| 344/344 [00:06<00:00, 52.55it/s]\n",
            "  0%|          | 0/43 [00:00<?, ?it/s]"
          ],
          "name": "stderr"
        },
        {
          "output_type": "stream",
          "text": [
            "Epoch..... 2\n"
          ],
          "name": "stdout"
        },
        {
          "output_type": "stream",
          "text": [
            "100%|██████████| 43/43 [00:03<00:00, 11.83it/s]\n",
            "100%|██████████| 344/344 [00:07<00:00, 44.49it/s]\n",
            "  0%|          | 0/43 [00:00<?, ?it/s]"
          ],
          "name": "stderr"
        },
        {
          "output_type": "stream",
          "text": [
            "Epoch..... 3\n"
          ],
          "name": "stdout"
        },
        {
          "output_type": "stream",
          "text": [
            "100%|██████████| 43/43 [00:03<00:00, 11.84it/s]\n",
            "100%|██████████| 344/344 [00:07<00:00, 45.21it/s]\n",
            "  0%|          | 0/43 [00:00<?, ?it/s]"
          ],
          "name": "stderr"
        },
        {
          "output_type": "stream",
          "text": [
            "Epoch..... 4\n"
          ],
          "name": "stdout"
        },
        {
          "output_type": "stream",
          "text": [
            "100%|██████████| 43/43 [00:03<00:00, 12.06it/s]\n",
            "100%|██████████| 344/344 [00:07<00:00, 46.38it/s]\n",
            "  0%|          | 0/43 [00:00<?, ?it/s]"
          ],
          "name": "stderr"
        },
        {
          "output_type": "stream",
          "text": [
            "Epoch..... 5\n"
          ],
          "name": "stdout"
        },
        {
          "output_type": "stream",
          "text": [
            "100%|██████████| 43/43 [00:03<00:00, 12.01it/s]\n",
            "100%|██████████| 344/344 [00:07<00:00, 46.08it/s]\n",
            "  0%|          | 0/43 [00:00<?, ?it/s]"
          ],
          "name": "stderr"
        },
        {
          "output_type": "stream",
          "text": [
            "Epoch..... 6\n"
          ],
          "name": "stdout"
        },
        {
          "output_type": "stream",
          "text": [
            "100%|██████████| 43/43 [00:03<00:00, 11.97it/s]\n",
            "100%|██████████| 344/344 [00:07<00:00, 45.93it/s]\n",
            "  0%|          | 0/43 [00:00<?, ?it/s]"
          ],
          "name": "stderr"
        },
        {
          "output_type": "stream",
          "text": [
            "Epoch..... 7\n"
          ],
          "name": "stdout"
        },
        {
          "output_type": "stream",
          "text": [
            "100%|██████████| 43/43 [00:03<00:00, 11.80it/s]\n",
            "100%|██████████| 344/344 [00:07<00:00, 46.74it/s]\n",
            "  0%|          | 0/43 [00:00<?, ?it/s]"
          ],
          "name": "stderr"
        },
        {
          "output_type": "stream",
          "text": [
            "Epoch..... 8\n"
          ],
          "name": "stdout"
        },
        {
          "output_type": "stream",
          "text": [
            "100%|██████████| 43/43 [00:03<00:00, 12.05it/s]\n",
            "100%|██████████| 344/344 [00:07<00:00, 46.36it/s]\n",
            "  0%|          | 0/43 [00:00<?, ?it/s]"
          ],
          "name": "stderr"
        },
        {
          "output_type": "stream",
          "text": [
            "Epoch..... 9\n"
          ],
          "name": "stdout"
        },
        {
          "output_type": "stream",
          "text": [
            "100%|██████████| 43/43 [00:03<00:00, 11.87it/s]\n",
            "100%|██████████| 344/344 [00:07<00:00, 45.55it/s]\n",
            "  0%|          | 0/43 [00:00<?, ?it/s]"
          ],
          "name": "stderr"
        },
        {
          "output_type": "stream",
          "text": [
            "Epoch..... 10\n"
          ],
          "name": "stdout"
        },
        {
          "output_type": "stream",
          "text": [
            "100%|██████████| 43/43 [00:03<00:00, 11.88it/s]\n",
            "100%|██████████| 344/344 [00:07<00:00, 46.01it/s]\n",
            "  0%|          | 0/43 [00:00<?, ?it/s]"
          ],
          "name": "stderr"
        },
        {
          "output_type": "stream",
          "text": [
            "Epoch..... 11\n"
          ],
          "name": "stdout"
        },
        {
          "output_type": "stream",
          "text": [
            "100%|██████████| 43/43 [00:03<00:00, 11.56it/s]\n",
            "100%|██████████| 344/344 [00:07<00:00, 43.10it/s]\n",
            "  0%|          | 0/43 [00:00<?, ?it/s]"
          ],
          "name": "stderr"
        },
        {
          "output_type": "stream",
          "text": [
            "Epoch..... 12\n"
          ],
          "name": "stdout"
        },
        {
          "output_type": "stream",
          "text": [
            "100%|██████████| 43/43 [00:03<00:00, 11.70it/s]\n",
            "100%|██████████| 344/344 [00:07<00:00, 45.98it/s]\n",
            "  0%|          | 0/43 [00:00<?, ?it/s]"
          ],
          "name": "stderr"
        },
        {
          "output_type": "stream",
          "text": [
            "Epoch..... 13\n"
          ],
          "name": "stdout"
        },
        {
          "output_type": "stream",
          "text": [
            "100%|██████████| 43/43 [00:03<00:00, 11.91it/s]\n",
            "100%|██████████| 344/344 [00:07<00:00, 46.25it/s]\n",
            "  0%|          | 0/43 [00:00<?, ?it/s]"
          ],
          "name": "stderr"
        },
        {
          "output_type": "stream",
          "text": [
            "Epoch..... 14\n"
          ],
          "name": "stdout"
        },
        {
          "output_type": "stream",
          "text": [
            "100%|██████████| 43/43 [00:03<00:00, 11.71it/s]\n",
            "100%|██████████| 344/344 [00:07<00:00, 44.86it/s]\n",
            "  0%|          | 0/43 [00:00<?, ?it/s]"
          ],
          "name": "stderr"
        },
        {
          "output_type": "stream",
          "text": [
            "Epoch..... 15\n"
          ],
          "name": "stdout"
        },
        {
          "output_type": "stream",
          "text": [
            "100%|██████████| 43/43 [00:03<00:00, 11.67it/s]\n",
            "100%|██████████| 344/344 [00:07<00:00, 44.28it/s]\n",
            "  0%|          | 0/43 [00:00<?, ?it/s]"
          ],
          "name": "stderr"
        },
        {
          "output_type": "stream",
          "text": [
            "Epoch..... 16\n"
          ],
          "name": "stdout"
        },
        {
          "output_type": "stream",
          "text": [
            "100%|██████████| 43/43 [00:03<00:00, 11.57it/s]\n",
            "100%|██████████| 344/344 [00:07<00:00, 45.81it/s]\n",
            "  0%|          | 0/43 [00:00<?, ?it/s]"
          ],
          "name": "stderr"
        },
        {
          "output_type": "stream",
          "text": [
            "Epoch..... 17\n"
          ],
          "name": "stdout"
        },
        {
          "output_type": "stream",
          "text": [
            "100%|██████████| 43/43 [00:03<00:00, 11.71it/s]\n",
            "100%|██████████| 344/344 [00:07<00:00, 45.28it/s]\n",
            "  0%|          | 0/43 [00:00<?, ?it/s]"
          ],
          "name": "stderr"
        },
        {
          "output_type": "stream",
          "text": [
            "Epoch..... 18\n"
          ],
          "name": "stdout"
        },
        {
          "output_type": "stream",
          "text": [
            "100%|██████████| 43/43 [00:03<00:00, 11.60it/s]\n",
            "100%|██████████| 344/344 [00:07<00:00, 45.12it/s]\n",
            "  0%|          | 0/43 [00:00<?, ?it/s]"
          ],
          "name": "stderr"
        },
        {
          "output_type": "stream",
          "text": [
            "Epoch..... 19\n"
          ],
          "name": "stdout"
        },
        {
          "output_type": "stream",
          "text": [
            "100%|██████████| 43/43 [00:03<00:00, 11.71it/s]\n",
            "100%|██████████| 344/344 [00:07<00:00, 45.13it/s]\n",
            "  0%|          | 0/43 [00:00<?, ?it/s]"
          ],
          "name": "stderr"
        },
        {
          "output_type": "stream",
          "text": [
            "Epoch..... 20\n"
          ],
          "name": "stdout"
        },
        {
          "output_type": "stream",
          "text": [
            "100%|██████████| 43/43 [00:03<00:00, 11.83it/s]\n",
            "100%|██████████| 344/344 [00:07<00:00, 46.27it/s]\n",
            "  0%|          | 0/43 [00:00<?, ?it/s]"
          ],
          "name": "stderr"
        },
        {
          "output_type": "stream",
          "text": [
            "Epoch..... 21\n"
          ],
          "name": "stdout"
        },
        {
          "output_type": "stream",
          "text": [
            "100%|██████████| 43/43 [00:03<00:00, 11.63it/s]\n",
            "100%|██████████| 344/344 [00:07<00:00, 46.19it/s]\n",
            "  0%|          | 0/43 [00:00<?, ?it/s]"
          ],
          "name": "stderr"
        },
        {
          "output_type": "stream",
          "text": [
            "Epoch..... 22\n"
          ],
          "name": "stdout"
        },
        {
          "output_type": "stream",
          "text": [
            "100%|██████████| 43/43 [00:03<00:00, 11.88it/s]\n",
            "100%|██████████| 344/344 [00:07<00:00, 45.35it/s]\n",
            "  0%|          | 0/43 [00:00<?, ?it/s]"
          ],
          "name": "stderr"
        },
        {
          "output_type": "stream",
          "text": [
            "Epoch..... 23\n"
          ],
          "name": "stdout"
        },
        {
          "output_type": "stream",
          "text": [
            "100%|██████████| 43/43 [00:03<00:00, 11.76it/s]\n",
            "100%|██████████| 344/344 [00:07<00:00, 46.20it/s]\n",
            "  0%|          | 0/43 [00:00<?, ?it/s]"
          ],
          "name": "stderr"
        },
        {
          "output_type": "stream",
          "text": [
            "Epoch..... 24\n"
          ],
          "name": "stdout"
        },
        {
          "output_type": "stream",
          "text": [
            "100%|██████████| 43/43 [00:03<00:00, 11.81it/s]\n",
            "100%|██████████| 344/344 [00:07<00:00, 45.99it/s]\n",
            "  0%|          | 0/43 [00:00<?, ?it/s]"
          ],
          "name": "stderr"
        },
        {
          "output_type": "stream",
          "text": [
            "Epoch..... 25\n"
          ],
          "name": "stdout"
        },
        {
          "output_type": "stream",
          "text": [
            "100%|██████████| 43/43 [00:03<00:00, 11.79it/s]\n",
            "100%|██████████| 344/344 [00:07<00:00, 46.11it/s]\n",
            "  0%|          | 0/43 [00:00<?, ?it/s]"
          ],
          "name": "stderr"
        },
        {
          "output_type": "stream",
          "text": [
            "Epoch..... 26\n"
          ],
          "name": "stdout"
        },
        {
          "output_type": "stream",
          "text": [
            "100%|██████████| 43/43 [00:03<00:00, 11.80it/s]\n",
            "100%|██████████| 344/344 [00:07<00:00, 45.75it/s]\n",
            "  0%|          | 0/43 [00:00<?, ?it/s]"
          ],
          "name": "stderr"
        },
        {
          "output_type": "stream",
          "text": [
            "Epoch..... 27\n"
          ],
          "name": "stdout"
        },
        {
          "output_type": "stream",
          "text": [
            "100%|██████████| 43/43 [00:03<00:00, 11.82it/s]\n",
            "100%|██████████| 344/344 [00:07<00:00, 44.50it/s]\n",
            "  0%|          | 0/43 [00:00<?, ?it/s]"
          ],
          "name": "stderr"
        },
        {
          "output_type": "stream",
          "text": [
            "Epoch..... 28\n"
          ],
          "name": "stdout"
        },
        {
          "output_type": "stream",
          "text": [
            "100%|██████████| 43/43 [00:03<00:00, 11.49it/s]\n",
            "100%|██████████| 344/344 [00:07<00:00, 45.08it/s]\n",
            "  0%|          | 0/43 [00:00<?, ?it/s]"
          ],
          "name": "stderr"
        },
        {
          "output_type": "stream",
          "text": [
            "Epoch..... 29\n"
          ],
          "name": "stdout"
        },
        {
          "output_type": "stream",
          "text": [
            "100%|██████████| 43/43 [00:03<00:00, 11.66it/s]\n",
            "100%|██████████| 344/344 [00:07<00:00, 45.58it/s]\n",
            "  0%|          | 0/43 [00:00<?, ?it/s]"
          ],
          "name": "stderr"
        },
        {
          "output_type": "stream",
          "text": [
            "Epoch..... 30\n"
          ],
          "name": "stdout"
        },
        {
          "output_type": "stream",
          "text": [
            "100%|██████████| 43/43 [00:03<00:00, 11.64it/s]\n",
            "100%|██████████| 344/344 [00:07<00:00, 46.05it/s]\n",
            "  0%|          | 0/43 [00:00<?, ?it/s]"
          ],
          "name": "stderr"
        },
        {
          "output_type": "stream",
          "text": [
            "Epoch..... 31\n"
          ],
          "name": "stdout"
        },
        {
          "output_type": "stream",
          "text": [
            "100%|██████████| 43/43 [00:03<00:00, 11.60it/s]\n",
            "100%|██████████| 344/344 [00:07<00:00, 46.07it/s]\n",
            "  0%|          | 0/43 [00:00<?, ?it/s]"
          ],
          "name": "stderr"
        },
        {
          "output_type": "stream",
          "text": [
            "Epoch..... 32\n"
          ],
          "name": "stdout"
        },
        {
          "output_type": "stream",
          "text": [
            "100%|██████████| 43/43 [00:03<00:00, 11.77it/s]\n",
            "100%|██████████| 344/344 [00:07<00:00, 46.24it/s]\n",
            "  0%|          | 0/43 [00:00<?, ?it/s]"
          ],
          "name": "stderr"
        },
        {
          "output_type": "stream",
          "text": [
            "Epoch..... 33\n"
          ],
          "name": "stdout"
        },
        {
          "output_type": "stream",
          "text": [
            "100%|██████████| 43/43 [00:03<00:00, 11.72it/s]\n",
            "100%|██████████| 344/344 [00:07<00:00, 45.88it/s]\n",
            "  0%|          | 0/43 [00:00<?, ?it/s]"
          ],
          "name": "stderr"
        },
        {
          "output_type": "stream",
          "text": [
            "Epoch..... 34\n"
          ],
          "name": "stdout"
        },
        {
          "output_type": "stream",
          "text": [
            "100%|██████████| 43/43 [00:03<00:00, 11.79it/s]\n",
            "100%|██████████| 344/344 [00:07<00:00, 45.87it/s]\n",
            "  0%|          | 0/43 [00:00<?, ?it/s]"
          ],
          "name": "stderr"
        },
        {
          "output_type": "stream",
          "text": [
            "Epoch..... 35\n"
          ],
          "name": "stdout"
        },
        {
          "output_type": "stream",
          "text": [
            "100%|██████████| 43/43 [00:03<00:00, 11.52it/s]\n",
            "100%|██████████| 344/344 [00:07<00:00, 45.47it/s]\n",
            "  0%|          | 0/43 [00:00<?, ?it/s]"
          ],
          "name": "stderr"
        },
        {
          "output_type": "stream",
          "text": [
            "Epoch..... 36\n"
          ],
          "name": "stdout"
        },
        {
          "output_type": "stream",
          "text": [
            "100%|██████████| 43/43 [00:03<00:00, 11.64it/s]\n",
            "100%|██████████| 344/344 [00:07<00:00, 45.79it/s]\n",
            "  0%|          | 0/43 [00:00<?, ?it/s]"
          ],
          "name": "stderr"
        },
        {
          "output_type": "stream",
          "text": [
            "Epoch..... 37\n"
          ],
          "name": "stdout"
        },
        {
          "output_type": "stream",
          "text": [
            "100%|██████████| 43/43 [00:03<00:00, 11.53it/s]\n",
            "100%|██████████| 344/344 [00:07<00:00, 43.86it/s]\n",
            "  0%|          | 0/43 [00:00<?, ?it/s]"
          ],
          "name": "stderr"
        },
        {
          "output_type": "stream",
          "text": [
            "Epoch..... 38\n"
          ],
          "name": "stdout"
        },
        {
          "output_type": "stream",
          "text": [
            "100%|██████████| 43/43 [00:03<00:00, 11.50it/s]\n",
            "100%|██████████| 344/344 [00:07<00:00, 44.99it/s]\n",
            "  0%|          | 0/43 [00:00<?, ?it/s]"
          ],
          "name": "stderr"
        },
        {
          "output_type": "stream",
          "text": [
            "Epoch..... 39\n"
          ],
          "name": "stdout"
        },
        {
          "output_type": "stream",
          "text": [
            "100%|██████████| 43/43 [00:03<00:00, 11.71it/s]\n",
            "100%|██████████| 344/344 [00:07<00:00, 45.91it/s]\n",
            "  0%|          | 0/43 [00:00<?, ?it/s]"
          ],
          "name": "stderr"
        },
        {
          "output_type": "stream",
          "text": [
            "Epoch..... 40\n"
          ],
          "name": "stdout"
        },
        {
          "output_type": "stream",
          "text": [
            "100%|██████████| 43/43 [00:03<00:00, 11.55it/s]\n",
            "100%|██████████| 344/344 [00:07<00:00, 45.32it/s]\n",
            "  0%|          | 0/43 [00:00<?, ?it/s]"
          ],
          "name": "stderr"
        },
        {
          "output_type": "stream",
          "text": [
            "Epoch..... 41\n"
          ],
          "name": "stdout"
        },
        {
          "output_type": "stream",
          "text": [
            "100%|██████████| 43/43 [00:03<00:00, 11.75it/s]\n",
            "100%|██████████| 344/344 [00:07<00:00, 46.08it/s]\n",
            "  0%|          | 0/43 [00:00<?, ?it/s]"
          ],
          "name": "stderr"
        },
        {
          "output_type": "stream",
          "text": [
            "Epoch..... 42\n"
          ],
          "name": "stdout"
        },
        {
          "output_type": "stream",
          "text": [
            "100%|██████████| 43/43 [00:03<00:00, 11.66it/s]\n",
            "100%|██████████| 344/344 [00:07<00:00, 45.73it/s]\n",
            "  0%|          | 0/43 [00:00<?, ?it/s]"
          ],
          "name": "stderr"
        },
        {
          "output_type": "stream",
          "text": [
            "Epoch..... 43\n"
          ],
          "name": "stdout"
        },
        {
          "output_type": "stream",
          "text": [
            "100%|██████████| 43/43 [00:03<00:00, 11.59it/s]\n",
            "100%|██████████| 344/344 [00:07<00:00, 45.85it/s]\n",
            "  0%|          | 0/43 [00:00<?, ?it/s]"
          ],
          "name": "stderr"
        },
        {
          "output_type": "stream",
          "text": [
            "Epoch..... 44\n"
          ],
          "name": "stdout"
        },
        {
          "output_type": "stream",
          "text": [
            "100%|██████████| 43/43 [00:03<00:00, 11.58it/s]\n",
            "100%|██████████| 344/344 [00:07<00:00, 45.61it/s]\n",
            "  0%|          | 0/43 [00:00<?, ?it/s]"
          ],
          "name": "stderr"
        },
        {
          "output_type": "stream",
          "text": [
            "Epoch..... 45\n"
          ],
          "name": "stdout"
        },
        {
          "output_type": "stream",
          "text": [
            "100%|██████████| 43/43 [00:03<00:00, 11.72it/s]\n",
            "100%|██████████| 344/344 [00:07<00:00, 45.55it/s]\n",
            "  0%|          | 0/43 [00:00<?, ?it/s]"
          ],
          "name": "stderr"
        },
        {
          "output_type": "stream",
          "text": [
            "Epoch..... 46\n"
          ],
          "name": "stdout"
        },
        {
          "output_type": "stream",
          "text": [
            "100%|██████████| 43/43 [00:03<00:00, 11.71it/s]\n",
            "100%|██████████| 344/344 [00:07<00:00, 45.92it/s]\n",
            "  0%|          | 0/43 [00:00<?, ?it/s]"
          ],
          "name": "stderr"
        },
        {
          "output_type": "stream",
          "text": [
            "Epoch..... 47\n"
          ],
          "name": "stdout"
        },
        {
          "output_type": "stream",
          "text": [
            "100%|██████████| 43/43 [00:03<00:00, 11.65it/s]\n",
            "100%|██████████| 344/344 [00:07<00:00, 45.48it/s]\n",
            "  0%|          | 0/43 [00:00<?, ?it/s]"
          ],
          "name": "stderr"
        },
        {
          "output_type": "stream",
          "text": [
            "Epoch..... 48\n"
          ],
          "name": "stdout"
        },
        {
          "output_type": "stream",
          "text": [
            "100%|██████████| 43/43 [00:03<00:00, 11.70it/s]\n",
            "100%|██████████| 344/344 [00:07<00:00, 45.87it/s]\n",
            "  0%|          | 0/43 [00:00<?, ?it/s]"
          ],
          "name": "stderr"
        },
        {
          "output_type": "stream",
          "text": [
            "Epoch..... 49\n"
          ],
          "name": "stdout"
        },
        {
          "output_type": "stream",
          "text": [
            "100%|██████████| 43/43 [00:03<00:00, 11.68it/s]\n",
            "100%|██████████| 344/344 [00:07<00:00, 44.51it/s]\n",
            "  0%|          | 0/43 [00:00<?, ?it/s]"
          ],
          "name": "stderr"
        },
        {
          "output_type": "stream",
          "text": [
            "Epoch..... 50\n"
          ],
          "name": "stdout"
        },
        {
          "output_type": "stream",
          "text": [
            "100%|██████████| 43/43 [00:03<00:00, 11.71it/s]\n",
            "[converting LR images to SR images] PSNR: 23.6029 dB SSIM: 0.8797: 100%|██████████| 344/344 [00:08<00:00, 40.96it/s]\n",
            "[saving training results]:   0%|          | 0/65 [00:00<?, ?it/s]"
          ],
          "name": "stderr"
        },
        {
          "output_type": "stream",
          "text": [
            "starts hear............\n"
          ],
          "name": "stdout"
        },
        {
          "output_type": "stream",
          "text": [
            "[saving training results]: 100%|██████████| 65/65 [00:41<00:00,  1.57it/s]\n"
          ],
          "name": "stderr"
        },
        {
          "output_type": "stream",
          "text": [
            "oyeeeeeeeeee\n"
          ],
          "name": "stdout"
        }
      ]
    },
    {
      "cell_type": "code",
      "metadata": {
        "id": "-S0LrDmXUDQM"
      },
      "source": [
        "IMAGE_NAME=\"/content/drive/My Drive/Colab Notebooks/EVA_P2/S8/Image_3_.jpg\"\n"
      ],
      "execution_count": null,
      "outputs": []
    },
    {
      "cell_type": "code",
      "metadata": {
        "id": "XvxFypUhR-ht",
        "outputId": "492a8e80-f8d9-45b6-bcf2-b3fe7f578a97",
        "colab": {
          "base_uri": "https://localhost:8080/",
          "height": 51
        }
      },
      "source": [
        "import argparse\n",
        "import time\n",
        "\n",
        "import torch\n",
        "from PIL import Image\n",
        "from torch.autograd import Variable\n",
        "from torchvision.transforms import ToTensor, ToPILImage\n",
        "\n",
        "# from model import Generator\n",
        "\n",
        "\n",
        "TEST_MODE = True \n",
        "\n",
        "model = Generator(UPSCALE_FACTOR).eval()\n",
        "if TEST_MODE:\n",
        "    model.cuda()\n",
        "    model.load_state_dict(torch.load(\"/content/drive/My Drive/Colab Notebooks/EVA_P2/S8/training_results/epochs/netG_epoch_4_50.pth\"))\n",
        "\n",
        "\n",
        "image = Image.open(IMAGE_NAME)\n",
        "image = Variable(ToTensor()(image), volatile=True).unsqueeze(0)\n",
        "if TEST_MODE:\n",
        "    image = image.cuda()\n",
        "\n",
        "start = time.clock()\n",
        "out = model(image)\n",
        "elapsed = (time.clock() - start)\n",
        "print('cost' + str(elapsed) + 's')\n",
        "out_img = ToPILImage()(out[0].data.cpu())\n",
        "out_img.save(\"/content/drive/My Drive/Colab Notebooks/EVA_P2/S8/training_results/epochs/Img.jpg\")"
      ],
      "execution_count": null,
      "outputs": [
        {
          "output_type": "stream",
          "text": [
            "cost0.008494000000041524s\n"
          ],
          "name": "stdout"
        },
        {
          "output_type": "stream",
          "text": [
            "/usr/local/lib/python3.6/dist-packages/ipykernel_launcher.py:21: UserWarning: volatile was removed and now has no effect. Use `with torch.no_grad():` instead.\n"
          ],
          "name": "stderr"
        }
      ]
    },
    {
      "cell_type": "code",
      "metadata": {
        "id": "L5y3kKI7DJI8",
        "outputId": "9cb965a2-10f0-45a8-f5b9-00c3f8d604d2",
        "colab": {
          "base_uri": "https://localhost:8080/",
          "height": 285
        }
      },
      "source": [
        "import  matplotlib.pyplot as plt\n",
        "import cv2 as cv\n",
        "imgs = cv.imread(\"/content/drive/My Drive/Colab Notebooks/EVA_P2/S8/Image_3_.jpg\")\n",
        "plt.imshow(imgs)"
      ],
      "execution_count": null,
      "outputs": [
        {
          "output_type": "execute_result",
          "data": {
            "text/plain": [
              "<matplotlib.image.AxesImage at 0x7f4f3e10b4a8>"
            ]
          },
          "metadata": {
            "tags": []
          },
          "execution_count": 61
        },
        {
          "output_type": "display_data",
          "data": {
            "image/png": "[encoded data removed]",
            "text/plain": [
              "<Figure size 432x288 with 1 Axes>"
            ]
          },
          "metadata": {
            "tags": [],
            "needs_background": "light"
          }
        }
      ]
    },
    {
      "cell_type": "code",
      "metadata": {
        "id": "1w3GeQMC_53o",
        "outputId": "ef14f4e5-6a4a-4488-8611-6df1e349301f",
        "colab": {
          "base_uri": "https://localhost:8080/",
          "height": 286
        }
      },
      "source": [
        "import  matplotlib.pyplot as plt\n",
        "import cv2 as cv\n",
        "img = cv.imread(\"/content/drive/My Drive/Colab Notebooks/EVA_P2/S8/training_results/epochs/Img.jpg\")\n",
        "plt.imshow(img)"
      ],
      "execution_count": null,
      "outputs": [
        {
          "output_type": "execute_result",
          "data": {
            "text/plain": [
              "<matplotlib.image.AxesImage at 0x7f4f3e475ac8>"
            ]
          },
          "metadata": {
            "tags": []
          },
          "execution_count": 64
        },
        {
          "output_type": "display_data",
          "data": {
            "image/png": "[encoded data removed]",
            "text/plain": [
              "<Figure size 432x288 with 1 Axes>"
            ]
          },
          "metadata": {
            "tags": [],
            "needs_background": "light"
          }
        }
      ]
    }
  ]
}